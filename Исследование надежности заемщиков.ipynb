{
 "cells": [
  {
   "cell_type": "markdown",
   "id": "3ffd4f27",
   "metadata": {
    "toc": true
   },
   "source": [
    "<h1>Table of Contents<span class=\"tocSkip\"></span></h1>\n",
    "<div class=\"toc\"><ul class=\"toc-item\"><li><span><a href=\"#Описание-проекта\" data-toc-modified-id=\"Описание-проекта-1\"><span class=\"toc-item-num\">1&nbsp;&nbsp;</span>Описание проекта</a></span><ul class=\"toc-item\"><li><span><a href=\"#Описание-данных\" data-toc-modified-id=\"Описание-данных-1.1\"><span class=\"toc-item-num\">1.1&nbsp;&nbsp;</span>Описание данных</a></span></li><li><span><a href=\"#Цель-исследования:\" data-toc-modified-id=\"Цель-исследования:-1.2\"><span class=\"toc-item-num\">1.2&nbsp;&nbsp;</span>Цель исследования:</a></span></li><li><span><a href=\"#Ход-исследования:\" data-toc-modified-id=\"Ход-исследования:-1.3\"><span class=\"toc-item-num\">1.3&nbsp;&nbsp;</span>Ход исследования:</a></span></li></ul></li><li><span><a href=\"#Общая-информация-о-данных\" data-toc-modified-id=\"Общая-информация-о-данных-2\"><span class=\"toc-item-num\">2&nbsp;&nbsp;</span>Общая информация о данных</a></span></li><li><span><a href=\"#Предобработка-данных\" data-toc-modified-id=\"Предобработка-данных-3\"><span class=\"toc-item-num\">3&nbsp;&nbsp;</span>Предобработка данных</a></span><ul class=\"toc-item\"><li><span><a href=\"#Работа-с-пропущенными-значениями\" data-toc-modified-id=\"Работа-с-пропущенными-значениями-3.1\"><span class=\"toc-item-num\">3.1&nbsp;&nbsp;</span>Работа с пропущенными значениями</a></span></li><li><span><a href=\"#Обработка-аномальных-значений\" data-toc-modified-id=\"Обработка-аномальных-значений-3.2\"><span class=\"toc-item-num\">3.2&nbsp;&nbsp;</span>Обработка аномальных значений</a></span></li><li><span><a href=\"#Изменение-типов-данных\" data-toc-modified-id=\"Изменение-типов-данных-3.3\"><span class=\"toc-item-num\">3.3&nbsp;&nbsp;</span>Изменение типов данных</a></span></li><li><span><a href=\"#Обработка-дубликатов\" data-toc-modified-id=\"Обработка-дубликатов-3.4\"><span class=\"toc-item-num\">3.4&nbsp;&nbsp;</span>Обработка дубликатов</a></span></li><li><span><a href=\"#Категоризация-данных\" data-toc-modified-id=\"Категоризация-данных-3.5\"><span class=\"toc-item-num\">3.5&nbsp;&nbsp;</span>Категоризация данных</a></span></li></ul></li><li><span><a href=\"#Исследование-различных-групп-заемщиков-на-предмет-надежности\" data-toc-modified-id=\"Исследование-различных-групп-заемщиков-на-предмет-надежности-4\"><span class=\"toc-item-num\">4&nbsp;&nbsp;</span>Исследование различных групп заемщиков на предмет надежности</a></span><ul class=\"toc-item\"><li><span><a href=\"#Есть-ли-зависимость-между-количеством-детей-и-возвратом-кредита-в-срок?\" data-toc-modified-id=\"Есть-ли-зависимость-между-количеством-детей-и-возвратом-кредита-в-срок?-4.1\"><span class=\"toc-item-num\">4.1&nbsp;&nbsp;</span>Есть ли зависимость между количеством детей и возвратом кредита в срок?</a></span></li><li><span><a href=\"#Есть-ли-зависимость-между-семейным-положением-и-возвратом-кредита-в-срок?\" data-toc-modified-id=\"Есть-ли-зависимость-между-семейным-положением-и-возвратом-кредита-в-срок?-4.2\"><span class=\"toc-item-num\">4.2&nbsp;&nbsp;</span>Есть ли зависимость между семейным положением и возвратом кредита в срок?</a></span></li><li><span><a href=\"#Есть-ли-зависимость-между-уровнем-дохода-и-возвратом-кредита-в-срок?\" data-toc-modified-id=\"Есть-ли-зависимость-между-уровнем-дохода-и-возвратом-кредита-в-срок?-4.3\"><span class=\"toc-item-num\">4.3&nbsp;&nbsp;</span>Есть ли зависимость между уровнем дохода и возвратом кредита в срок?</a></span></li><li><span><a href=\"#Как-разные-цели-кредита-влияют-на-его-возврат-в-срок?\" data-toc-modified-id=\"Как-разные-цели-кредита-влияют-на-его-возврат-в-срок?-4.4\"><span class=\"toc-item-num\">4.4&nbsp;&nbsp;</span>Как разные цели кредита влияют на его возврат в срок?</a></span></li><li><span><a href=\"#Возможные-причины-появления-большого-количества-пропусков-в-исходных-данных\" data-toc-modified-id=\"Возможные-причины-появления-большого-количества-пропусков-в-исходных-данных-4.5\"><span class=\"toc-item-num\">4.5&nbsp;&nbsp;</span>Возможные причины появления большого количества пропусков в исходных данных</a></span></li><li><span><a href=\"#Почему-заполнение-пропусков-медианным-значением-—-лучшее-решение-для-количественных-переменных?\" data-toc-modified-id=\"Почему-заполнение-пропусков-медианным-значением-—-лучшее-решение-для-количественных-переменных?-4.6\"><span class=\"toc-item-num\">4.6&nbsp;&nbsp;</span>Почему заполнение пропусков медианным значением — лучшее решение для количественных переменных?</a></span></li></ul></li><li><span><a href=\"#Общий-вывод\" data-toc-modified-id=\"Общий-вывод-5\"><span class=\"toc-item-num\">5&nbsp;&nbsp;</span>Общий вывод</a></span></li></ul></div>"
   ]
  },
  {
   "cell_type": "markdown",
   "id": "94f18eab",
   "metadata": {},
   "source": [
    "# Исследование надежности заемщиков\n"
   ]
  },
  {
   "cell_type": "markdown",
   "id": "cd1328cd",
   "metadata": {},
   "source": [
    "## Описание проекта"
   ]
  },
  {
   "cell_type": "markdown",
   "id": "361f6df9",
   "metadata": {},
   "source": [
    "  Перед нами статистика о платёжеспособности клиентов. Результаты данного исследования можно использовать при построении модели *кредитного скоринга* — специальной системы, которая оценивает способность потенциального заёмщика вернуть кредит банку."
   ]
  },
  {
   "cell_type": "markdown",
   "id": "c0dc31eb",
   "metadata": {},
   "source": [
    "### Описание данных\n",
    "**Данный датасет имеет следующие столбцы:**\n",
    "- `children` — количество детей в семье\n",
    "- `days_employed` — общий трудовой стаж в днях\n",
    "- `dob_years` — возраст клиента в годах\n",
    "- `education` — уровень образования клиента\n",
    "- `education_id` — идентификатор уровня образования\n",
    "- `family_status` — семейное положение\n",
    "- `family_status_id` — идентификатор семейного положения\n",
    "- `gender` — пол клиента\n",
    "- `income_type` — тип занятости\n",
    "- `debt` — имел ли задолженность по возврату кредитов\n",
    "- `total_income` — ежемесячный доход\n",
    "- `purpose` — цель получения кредита"
   ]
  },
  {
   "cell_type": "markdown",
   "id": "a31e2515",
   "metadata": {},
   "source": [
    "### Цель исследования:\n",
    "В процессе нашей исследовательской работы перед нами стоит три основные задачи:\n",
    "- Выяснить как влияет количество детей клиента на факт погашения кредита в срок;\n",
    "- Установить влияет ли пол клиента на факт погашения кредита в срок;\n",
    "- Установить три самые популярные цели кредитов среди клиентов старше 30 лет"
   ]
  },
  {
   "cell_type": "markdown",
   "id": "a3f33e6d",
   "metadata": {},
   "source": [
    "### Ход исследования:\n",
    "- Обзор данных файла *data.csv*;\n",
    "- Предобработка данных:\n",
    "  1. Работа с пропусками;\n",
    "  2. Обработка аномальных значений;\n",
    "  3. Изменение типов данных;\n",
    "  4. Обработка дубликатов;\n",
    "  5. Категоризация данных\n",
    "- Исследование различных групп заемщиков на предмет надежности:\n",
    "  1. Есть ли зависимость между количеством детей и возвратом кредита в срок?;\n",
    "  2. Есть ли зависимость между семейным положением и возвратом кредита в срок?;\n",
    "  3. Есть ли зависимость между уровнем дохода и возвратом кредита в срок?;\n",
    "  4. Как разные цели кредита влияют на его возврат в срок?;\n",
    "  5. Возможные причины появления большого количества пропусков в исходных данных;\n",
    "  6. Почему заполнение пропусков медианным значением — лучшее решение для количественных переменных?\n",
    "- Общий вывод"
   ]
  },
  {
   "cell_type": "markdown",
   "id": "ab68020c",
   "metadata": {},
   "source": [
    "## Общая информация о данных"
   ]
  },
  {
   "cell_type": "markdown",
   "id": "850e206c",
   "metadata": {},
   "source": [
    "Импортируем необходимые библиотеки и прочитаем файл:"
   ]
  },
  {
   "cell_type": "code",
   "execution_count": 6,
   "id": "199c9464",
   "metadata": {},
   "outputs": [],
   "source": [
    "import pandas as pd\n",
    "import matplotlib.pyplot as plt\n",
    "import seaborn as sns"
   ]
  },
  {
   "cell_type": "code",
   "execution_count": 2,
   "id": "ac6dd8f2",
   "metadata": {},
   "outputs": [],
   "source": [
    "try:\n",
    "    data = pd.read_csv('/datasets/data.csv')\n",
    "except:\n",
    "    data = pd.read_csv('https://code.s3.yandex.net/datasets/data.csv')"
   ]
  },
  {
   "cell_type": "markdown",
   "id": "8ac41b21",
   "metadata": {},
   "source": [
    "Выведем на экран первые 20 строчек датафрейма `data`:"
   ]
  },
  {
   "cell_type": "code",
   "execution_count": 3,
   "id": "c44e2086",
   "metadata": {
    "scrolled": true
   },
   "outputs": [
    {
     "data": {
      "text/html": [
       "<div>\n",
       "<style scoped>\n",
       "    .dataframe tbody tr th:only-of-type {\n",
       "        vertical-align: middle;\n",
       "    }\n",
       "\n",
       "    .dataframe tbody tr th {\n",
       "        vertical-align: top;\n",
       "    }\n",
       "\n",
       "    .dataframe thead th {\n",
       "        text-align: right;\n",
       "    }\n",
       "</style>\n",
       "<table border=\"1\" class=\"dataframe\">\n",
       "  <thead>\n",
       "    <tr style=\"text-align: right;\">\n",
       "      <th></th>\n",
       "      <th>children</th>\n",
       "      <th>days_employed</th>\n",
       "      <th>dob_years</th>\n",
       "      <th>education</th>\n",
       "      <th>education_id</th>\n",
       "      <th>family_status</th>\n",
       "      <th>family_status_id</th>\n",
       "      <th>gender</th>\n",
       "      <th>income_type</th>\n",
       "      <th>debt</th>\n",
       "      <th>total_income</th>\n",
       "      <th>purpose</th>\n",
       "    </tr>\n",
       "  </thead>\n",
       "  <tbody>\n",
       "    <tr>\n",
       "      <th>0</th>\n",
       "      <td>1</td>\n",
       "      <td>-8437.673028</td>\n",
       "      <td>42</td>\n",
       "      <td>высшее</td>\n",
       "      <td>0</td>\n",
       "      <td>женат / замужем</td>\n",
       "      <td>0</td>\n",
       "      <td>F</td>\n",
       "      <td>сотрудник</td>\n",
       "      <td>0</td>\n",
       "      <td>253875.639453</td>\n",
       "      <td>покупка жилья</td>\n",
       "    </tr>\n",
       "    <tr>\n",
       "      <th>1</th>\n",
       "      <td>1</td>\n",
       "      <td>-4024.803754</td>\n",
       "      <td>36</td>\n",
       "      <td>среднее</td>\n",
       "      <td>1</td>\n",
       "      <td>женат / замужем</td>\n",
       "      <td>0</td>\n",
       "      <td>F</td>\n",
       "      <td>сотрудник</td>\n",
       "      <td>0</td>\n",
       "      <td>112080.014102</td>\n",
       "      <td>приобретение автомобиля</td>\n",
       "    </tr>\n",
       "    <tr>\n",
       "      <th>2</th>\n",
       "      <td>0</td>\n",
       "      <td>-5623.422610</td>\n",
       "      <td>33</td>\n",
       "      <td>Среднее</td>\n",
       "      <td>1</td>\n",
       "      <td>женат / замужем</td>\n",
       "      <td>0</td>\n",
       "      <td>M</td>\n",
       "      <td>сотрудник</td>\n",
       "      <td>0</td>\n",
       "      <td>145885.952297</td>\n",
       "      <td>покупка жилья</td>\n",
       "    </tr>\n",
       "    <tr>\n",
       "      <th>3</th>\n",
       "      <td>3</td>\n",
       "      <td>-4124.747207</td>\n",
       "      <td>32</td>\n",
       "      <td>среднее</td>\n",
       "      <td>1</td>\n",
       "      <td>женат / замужем</td>\n",
       "      <td>0</td>\n",
       "      <td>M</td>\n",
       "      <td>сотрудник</td>\n",
       "      <td>0</td>\n",
       "      <td>267628.550329</td>\n",
       "      <td>дополнительное образование</td>\n",
       "    </tr>\n",
       "    <tr>\n",
       "      <th>4</th>\n",
       "      <td>0</td>\n",
       "      <td>340266.072047</td>\n",
       "      <td>53</td>\n",
       "      <td>среднее</td>\n",
       "      <td>1</td>\n",
       "      <td>гражданский брак</td>\n",
       "      <td>1</td>\n",
       "      <td>F</td>\n",
       "      <td>пенсионер</td>\n",
       "      <td>0</td>\n",
       "      <td>158616.077870</td>\n",
       "      <td>сыграть свадьбу</td>\n",
       "    </tr>\n",
       "    <tr>\n",
       "      <th>5</th>\n",
       "      <td>0</td>\n",
       "      <td>-926.185831</td>\n",
       "      <td>27</td>\n",
       "      <td>высшее</td>\n",
       "      <td>0</td>\n",
       "      <td>гражданский брак</td>\n",
       "      <td>1</td>\n",
       "      <td>M</td>\n",
       "      <td>компаньон</td>\n",
       "      <td>0</td>\n",
       "      <td>255763.565419</td>\n",
       "      <td>покупка жилья</td>\n",
       "    </tr>\n",
       "    <tr>\n",
       "      <th>6</th>\n",
       "      <td>0</td>\n",
       "      <td>-2879.202052</td>\n",
       "      <td>43</td>\n",
       "      <td>высшее</td>\n",
       "      <td>0</td>\n",
       "      <td>женат / замужем</td>\n",
       "      <td>0</td>\n",
       "      <td>F</td>\n",
       "      <td>компаньон</td>\n",
       "      <td>0</td>\n",
       "      <td>240525.971920</td>\n",
       "      <td>операции с жильем</td>\n",
       "    </tr>\n",
       "    <tr>\n",
       "      <th>7</th>\n",
       "      <td>0</td>\n",
       "      <td>-152.779569</td>\n",
       "      <td>50</td>\n",
       "      <td>СРЕДНЕЕ</td>\n",
       "      <td>1</td>\n",
       "      <td>женат / замужем</td>\n",
       "      <td>0</td>\n",
       "      <td>M</td>\n",
       "      <td>сотрудник</td>\n",
       "      <td>0</td>\n",
       "      <td>135823.934197</td>\n",
       "      <td>образование</td>\n",
       "    </tr>\n",
       "    <tr>\n",
       "      <th>8</th>\n",
       "      <td>2</td>\n",
       "      <td>-6929.865299</td>\n",
       "      <td>35</td>\n",
       "      <td>ВЫСШЕЕ</td>\n",
       "      <td>0</td>\n",
       "      <td>гражданский брак</td>\n",
       "      <td>1</td>\n",
       "      <td>F</td>\n",
       "      <td>сотрудник</td>\n",
       "      <td>0</td>\n",
       "      <td>95856.832424</td>\n",
       "      <td>на проведение свадьбы</td>\n",
       "    </tr>\n",
       "    <tr>\n",
       "      <th>9</th>\n",
       "      <td>0</td>\n",
       "      <td>-2188.756445</td>\n",
       "      <td>41</td>\n",
       "      <td>среднее</td>\n",
       "      <td>1</td>\n",
       "      <td>женат / замужем</td>\n",
       "      <td>0</td>\n",
       "      <td>M</td>\n",
       "      <td>сотрудник</td>\n",
       "      <td>0</td>\n",
       "      <td>144425.938277</td>\n",
       "      <td>покупка жилья для семьи</td>\n",
       "    </tr>\n",
       "    <tr>\n",
       "      <th>10</th>\n",
       "      <td>2</td>\n",
       "      <td>-4171.483647</td>\n",
       "      <td>36</td>\n",
       "      <td>высшее</td>\n",
       "      <td>0</td>\n",
       "      <td>женат / замужем</td>\n",
       "      <td>0</td>\n",
       "      <td>M</td>\n",
       "      <td>компаньон</td>\n",
       "      <td>0</td>\n",
       "      <td>113943.491460</td>\n",
       "      <td>покупка недвижимости</td>\n",
       "    </tr>\n",
       "    <tr>\n",
       "      <th>11</th>\n",
       "      <td>0</td>\n",
       "      <td>-792.701887</td>\n",
       "      <td>40</td>\n",
       "      <td>среднее</td>\n",
       "      <td>1</td>\n",
       "      <td>женат / замужем</td>\n",
       "      <td>0</td>\n",
       "      <td>F</td>\n",
       "      <td>сотрудник</td>\n",
       "      <td>0</td>\n",
       "      <td>77069.234271</td>\n",
       "      <td>покупка коммерческой недвижимости</td>\n",
       "    </tr>\n",
       "    <tr>\n",
       "      <th>12</th>\n",
       "      <td>0</td>\n",
       "      <td>NaN</td>\n",
       "      <td>65</td>\n",
       "      <td>среднее</td>\n",
       "      <td>1</td>\n",
       "      <td>гражданский брак</td>\n",
       "      <td>1</td>\n",
       "      <td>M</td>\n",
       "      <td>пенсионер</td>\n",
       "      <td>0</td>\n",
       "      <td>NaN</td>\n",
       "      <td>сыграть свадьбу</td>\n",
       "    </tr>\n",
       "    <tr>\n",
       "      <th>13</th>\n",
       "      <td>0</td>\n",
       "      <td>-1846.641941</td>\n",
       "      <td>54</td>\n",
       "      <td>неоконченное высшее</td>\n",
       "      <td>2</td>\n",
       "      <td>женат / замужем</td>\n",
       "      <td>0</td>\n",
       "      <td>F</td>\n",
       "      <td>сотрудник</td>\n",
       "      <td>0</td>\n",
       "      <td>130458.228857</td>\n",
       "      <td>приобретение автомобиля</td>\n",
       "    </tr>\n",
       "    <tr>\n",
       "      <th>14</th>\n",
       "      <td>0</td>\n",
       "      <td>-1844.956182</td>\n",
       "      <td>56</td>\n",
       "      <td>высшее</td>\n",
       "      <td>0</td>\n",
       "      <td>гражданский брак</td>\n",
       "      <td>1</td>\n",
       "      <td>F</td>\n",
       "      <td>компаньон</td>\n",
       "      <td>1</td>\n",
       "      <td>165127.911772</td>\n",
       "      <td>покупка жилой недвижимости</td>\n",
       "    </tr>\n",
       "    <tr>\n",
       "      <th>15</th>\n",
       "      <td>1</td>\n",
       "      <td>-972.364419</td>\n",
       "      <td>26</td>\n",
       "      <td>среднее</td>\n",
       "      <td>1</td>\n",
       "      <td>женат / замужем</td>\n",
       "      <td>0</td>\n",
       "      <td>F</td>\n",
       "      <td>сотрудник</td>\n",
       "      <td>0</td>\n",
       "      <td>116820.904450</td>\n",
       "      <td>строительство собственной недвижимости</td>\n",
       "    </tr>\n",
       "    <tr>\n",
       "      <th>16</th>\n",
       "      <td>0</td>\n",
       "      <td>-1719.934226</td>\n",
       "      <td>35</td>\n",
       "      <td>среднее</td>\n",
       "      <td>1</td>\n",
       "      <td>женат / замужем</td>\n",
       "      <td>0</td>\n",
       "      <td>F</td>\n",
       "      <td>сотрудник</td>\n",
       "      <td>0</td>\n",
       "      <td>289202.704229</td>\n",
       "      <td>недвижимость</td>\n",
       "    </tr>\n",
       "    <tr>\n",
       "      <th>17</th>\n",
       "      <td>0</td>\n",
       "      <td>-2369.999720</td>\n",
       "      <td>33</td>\n",
       "      <td>высшее</td>\n",
       "      <td>0</td>\n",
       "      <td>гражданский брак</td>\n",
       "      <td>1</td>\n",
       "      <td>M</td>\n",
       "      <td>сотрудник</td>\n",
       "      <td>0</td>\n",
       "      <td>90410.586745</td>\n",
       "      <td>строительство недвижимости</td>\n",
       "    </tr>\n",
       "    <tr>\n",
       "      <th>18</th>\n",
       "      <td>0</td>\n",
       "      <td>400281.136913</td>\n",
       "      <td>53</td>\n",
       "      <td>среднее</td>\n",
       "      <td>1</td>\n",
       "      <td>вдовец / вдова</td>\n",
       "      <td>2</td>\n",
       "      <td>F</td>\n",
       "      <td>пенсионер</td>\n",
       "      <td>0</td>\n",
       "      <td>56823.777243</td>\n",
       "      <td>на покупку подержанного автомобиля</td>\n",
       "    </tr>\n",
       "    <tr>\n",
       "      <th>19</th>\n",
       "      <td>0</td>\n",
       "      <td>-10038.818549</td>\n",
       "      <td>48</td>\n",
       "      <td>СРЕДНЕЕ</td>\n",
       "      <td>1</td>\n",
       "      <td>в разводе</td>\n",
       "      <td>3</td>\n",
       "      <td>F</td>\n",
       "      <td>сотрудник</td>\n",
       "      <td>0</td>\n",
       "      <td>242831.107982</td>\n",
       "      <td>на покупку своего автомобиля</td>\n",
       "    </tr>\n",
       "  </tbody>\n",
       "</table>\n",
       "</div>"
      ],
      "text/plain": [
       "    children  days_employed  dob_years            education  education_id  \\\n",
       "0          1   -8437.673028         42               высшее             0   \n",
       "1          1   -4024.803754         36              среднее             1   \n",
       "2          0   -5623.422610         33              Среднее             1   \n",
       "3          3   -4124.747207         32              среднее             1   \n",
       "4          0  340266.072047         53              среднее             1   \n",
       "5          0    -926.185831         27               высшее             0   \n",
       "6          0   -2879.202052         43               высшее             0   \n",
       "7          0    -152.779569         50              СРЕДНЕЕ             1   \n",
       "8          2   -6929.865299         35               ВЫСШЕЕ             0   \n",
       "9          0   -2188.756445         41              среднее             1   \n",
       "10         2   -4171.483647         36               высшее             0   \n",
       "11         0    -792.701887         40              среднее             1   \n",
       "12         0            NaN         65              среднее             1   \n",
       "13         0   -1846.641941         54  неоконченное высшее             2   \n",
       "14         0   -1844.956182         56               высшее             0   \n",
       "15         1    -972.364419         26              среднее             1   \n",
       "16         0   -1719.934226         35              среднее             1   \n",
       "17         0   -2369.999720         33               высшее             0   \n",
       "18         0  400281.136913         53              среднее             1   \n",
       "19         0  -10038.818549         48              СРЕДНЕЕ             1   \n",
       "\n",
       "       family_status  family_status_id gender income_type  debt  \\\n",
       "0    женат / замужем                 0      F   сотрудник     0   \n",
       "1    женат / замужем                 0      F   сотрудник     0   \n",
       "2    женат / замужем                 0      M   сотрудник     0   \n",
       "3    женат / замужем                 0      M   сотрудник     0   \n",
       "4   гражданский брак                 1      F   пенсионер     0   \n",
       "5   гражданский брак                 1      M   компаньон     0   \n",
       "6    женат / замужем                 0      F   компаньон     0   \n",
       "7    женат / замужем                 0      M   сотрудник     0   \n",
       "8   гражданский брак                 1      F   сотрудник     0   \n",
       "9    женат / замужем                 0      M   сотрудник     0   \n",
       "10   женат / замужем                 0      M   компаньон     0   \n",
       "11   женат / замужем                 0      F   сотрудник     0   \n",
       "12  гражданский брак                 1      M   пенсионер     0   \n",
       "13   женат / замужем                 0      F   сотрудник     0   \n",
       "14  гражданский брак                 1      F   компаньон     1   \n",
       "15   женат / замужем                 0      F   сотрудник     0   \n",
       "16   женат / замужем                 0      F   сотрудник     0   \n",
       "17  гражданский брак                 1      M   сотрудник     0   \n",
       "18    вдовец / вдова                 2      F   пенсионер     0   \n",
       "19         в разводе                 3      F   сотрудник     0   \n",
       "\n",
       "     total_income                                 purpose  \n",
       "0   253875.639453                           покупка жилья  \n",
       "1   112080.014102                 приобретение автомобиля  \n",
       "2   145885.952297                           покупка жилья  \n",
       "3   267628.550329              дополнительное образование  \n",
       "4   158616.077870                         сыграть свадьбу  \n",
       "5   255763.565419                           покупка жилья  \n",
       "6   240525.971920                       операции с жильем  \n",
       "7   135823.934197                             образование  \n",
       "8    95856.832424                   на проведение свадьбы  \n",
       "9   144425.938277                 покупка жилья для семьи  \n",
       "10  113943.491460                    покупка недвижимости  \n",
       "11   77069.234271       покупка коммерческой недвижимости  \n",
       "12            NaN                         сыграть свадьбу  \n",
       "13  130458.228857                 приобретение автомобиля  \n",
       "14  165127.911772              покупка жилой недвижимости  \n",
       "15  116820.904450  строительство собственной недвижимости  \n",
       "16  289202.704229                            недвижимость  \n",
       "17   90410.586745              строительство недвижимости  \n",
       "18   56823.777243      на покупку подержанного автомобиля  \n",
       "19  242831.107982            на покупку своего автомобиля  "
      ]
     },
     "execution_count": 3,
     "metadata": {},
     "output_type": "execute_result"
    }
   ],
   "source": [
    "data.head(20)"
   ]
  },
  {
   "cell_type": "markdown",
   "id": "f6845bc2",
   "metadata": {},
   "source": [
    "Обзорный просмотр данных датасета показал следующее:\n",
    "- В столбце `days_employed` встречаются как аномальные значения такие как отрицательный стаж работы, так и пропущенные значения;\n",
    "- В столбце `education` встречается различное написание одних и тех же значений, что свидетельствует о наличии неявных дубликатов;\n",
    "- В столбце `total_income` присутствуют пропущенные значения;"
   ]
  },
  {
   "cell_type": "markdown",
   "id": "9efea0a5",
   "metadata": {},
   "source": [
    "Выведем на экран основную информацию о датафрейме с помощью метода info():"
   ]
  },
  {
   "cell_type": "code",
   "execution_count": 4,
   "id": "c68dfabe",
   "metadata": {},
   "outputs": [
    {
     "name": "stdout",
     "output_type": "stream",
     "text": [
      "<class 'pandas.core.frame.DataFrame'>\n",
      "RangeIndex: 21525 entries, 0 to 21524\n",
      "Data columns (total 12 columns):\n",
      " #   Column            Non-Null Count  Dtype  \n",
      "---  ------            --------------  -----  \n",
      " 0   children          21525 non-null  int64  \n",
      " 1   days_employed     19351 non-null  float64\n",
      " 2   dob_years         21525 non-null  int64  \n",
      " 3   education         21525 non-null  object \n",
      " 4   education_id      21525 non-null  int64  \n",
      " 5   family_status     21525 non-null  object \n",
      " 6   family_status_id  21525 non-null  int64  \n",
      " 7   gender            21525 non-null  object \n",
      " 8   income_type       21525 non-null  object \n",
      " 9   debt              21525 non-null  int64  \n",
      " 10  total_income      19351 non-null  float64\n",
      " 11  purpose           21525 non-null  object \n",
      "dtypes: float64(2), int64(5), object(5)\n",
      "memory usage: 2.0+ MB\n"
     ]
    }
   ],
   "source": [
    "data.info()"
   ]
  },
  {
   "cell_type": "markdown",
   "id": "b8c447b4",
   "metadata": {},
   "source": [
    "## Предобработка данных"
   ]
  },
  {
   "cell_type": "markdown",
   "id": "018fa412",
   "metadata": {},
   "source": [
    "### Работа с пропущенными значениями"
   ]
  },
  {
   "cell_type": "markdown",
   "id": "6d658f0b",
   "metadata": {},
   "source": [
    "Выведем количество пропущенных значений для каждого столбца:"
   ]
  },
  {
   "cell_type": "code",
   "execution_count": 5,
   "id": "a3c1538e",
   "metadata": {},
   "outputs": [
    {
     "data": {
      "text/plain": [
       "children               0\n",
       "days_employed       2174\n",
       "dob_years              0\n",
       "education              0\n",
       "education_id           0\n",
       "family_status          0\n",
       "family_status_id       0\n",
       "gender                 0\n",
       "income_type            0\n",
       "debt                   0\n",
       "total_income        2174\n",
       "purpose                0\n",
       "dtype: int64"
      ]
     },
     "execution_count": 5,
     "metadata": {},
     "output_type": "execute_result"
    }
   ],
   "source": [
    "data.isna().sum()"
   ]
  },
  {
   "cell_type": "markdown",
   "id": "9ff61bf7",
   "metadata": {},
   "source": [
    "В нашем датасете имеются пропуски в столбцах `days_employed`(общий трудовой стаж в днях) и `total_income`(ежемесячный доход):"
   ]
  },
  {
   "cell_type": "markdown",
   "id": "2500b9a8",
   "metadata": {},
   "source": [
    "Начнем работу с пропущенными значениями со столбца `total_income`, содержащим информацию о доходах. На сумму дохода сильнее всего влияет тип занятости, поэтому будет справедливым заполнить пропуски  медианным значением по каждому типу из столбца `income_type`(тип занятости):"
   ]
  },
  {
   "cell_type": "code",
   "execution_count": 7,
   "id": "b418a738",
   "metadata": {},
   "outputs": [],
   "source": [
    "for inc in data['income_type'].unique():\n",
    "    data.loc[(data['income_type'] == inc) & (data['total_income'].isna()), 'total_income'] = \\\n",
    "    data.loc[(data['income_type'] == inc), 'total_income'].median()"
   ]
  },
  {
   "cell_type": "markdown",
   "id": "b24952a8",
   "metadata": {},
   "source": [
    "Заполним пропуски в столбце `days_employed` медианными значениями по каждому типу занятости `income_type`:"
   ]
  },
  {
   "cell_type": "code",
   "execution_count": 8,
   "id": "fe5b3e55",
   "metadata": {},
   "outputs": [],
   "source": [
    "for e in data['income_type'].unique():\n",
    "    data.loc[(data['income_type'] == e) & (data['days_employed'].isna()), 'days_employed'] = \\\n",
    "    data.loc[(data['income_type'] == e), 'days_employed'].median()"
   ]
  },
  {
   "cell_type": "markdown",
   "id": "b4350e87",
   "metadata": {},
   "source": [
    "Убедимся, что все пропуски заполнены и перейдем к следующему этапу - обработке аномальных значений:"
   ]
  },
  {
   "cell_type": "code",
   "execution_count": 9,
   "id": "b1f36806",
   "metadata": {},
   "outputs": [
    {
     "data": {
      "text/plain": [
       "children            0\n",
       "days_employed       0\n",
       "dob_years           0\n",
       "education           0\n",
       "education_id        0\n",
       "family_status       0\n",
       "family_status_id    0\n",
       "gender              0\n",
       "income_type         0\n",
       "debt                0\n",
       "total_income        0\n",
       "purpose             0\n",
       "dtype: int64"
      ]
     },
     "execution_count": 9,
     "metadata": {},
     "output_type": "execute_result"
    }
   ],
   "source": [
    "data.isna().sum()"
   ]
  },
  {
   "cell_type": "markdown",
   "id": "9cd2edd8",
   "metadata": {},
   "source": [
    "### Обработка аномальных значений"
   ]
  },
  {
   "cell_type": "markdown",
   "id": "ae1399d9",
   "metadata": {},
   "source": [
    "В данных столбца `days_employed` встречаются аномальные значения, которые не отражают действительность и появились в результате какой-то ошибки. Обработаем значения в этом столбце, заменив все отрицательные значения положительными с помощью метода abs():"
   ]
  },
  {
   "cell_type": "code",
   "execution_count": 10,
   "id": "31d35c79",
   "metadata": {},
   "outputs": [],
   "source": [
    "data['days_employed'] = data['days_employed'].abs()"
   ]
  },
  {
   "cell_type": "markdown",
   "id": "b76eacf5",
   "metadata": {},
   "source": [
    "Для каждого типа занятости выведем медианное значение трудового стажа `days_employed` в днях:"
   ]
  },
  {
   "cell_type": "code",
   "execution_count": 13,
   "id": "d638d709",
   "metadata": {
    "scrolled": true
   },
   "outputs": [
    {
     "data": {
      "text/plain": [
       "income_type\n",
       "безработный        366413.652744\n",
       "в декрете            3296.759962\n",
       "госслужащий          2689.368353\n",
       "компаньон            1547.382223\n",
       "пенсионер          365213.306266\n",
       "предприниматель       520.848083\n",
       "сотрудник            1574.202821\n",
       "студент               578.751554\n",
       "Name: days_employed, dtype: float64"
      ]
     },
     "execution_count": 13,
     "metadata": {},
     "output_type": "execute_result"
    }
   ],
   "source": [
    "data.groupby('income_type')['days_employed'].agg('median')"
   ]
  },
  {
   "cell_type": "markdown",
   "id": "b349d177",
   "metadata": {},
   "source": [
    "У двух типов (безработные и пенсионеры) получились аномально большие значения трудового стажа. Сложно установить в результате чего появились такие аномальные данные. Исправить их не представляется возможным, поэтому оставим их как есть. В любом случае этот столбец не понадобится вам для исследования."
   ]
  },
  {
   "cell_type": "markdown",
   "id": "d55b10d7",
   "metadata": {},
   "source": [
    "В поисках аномальных значений рассмотрим следующий столбец `children`:"
   ]
  },
  {
   "cell_type": "code",
   "execution_count": 14,
   "id": "45569006",
   "metadata": {},
   "outputs": [
    {
     "data": {
      "text/plain": [
       "array([ 1,  0,  3,  2, -1,  4, 20,  5])"
      ]
     },
     "execution_count": 14,
     "metadata": {},
     "output_type": "execute_result"
    }
   ],
   "source": [
    "data['children'].unique()"
   ]
  },
  {
   "cell_type": "markdown",
   "id": "2209bb1f",
   "metadata": {},
   "source": [
    "В столбце `children` есть два аномальных значения - `-1` и `20`. Удалим строки, в которых встречаются такие аномальные значения:"
   ]
  },
  {
   "cell_type": "code",
   "execution_count": 15,
   "id": "07d91642",
   "metadata": {},
   "outputs": [],
   "source": [
    "data = data[(data['children'] != -1) & (data['children'] != 20)]"
   ]
  },
  {
   "cell_type": "markdown",
   "id": "b49b490d",
   "metadata": {},
   "source": [
    "### Изменение типов данных"
   ]
  },
  {
   "cell_type": "markdown",
   "id": "1df64dc0",
   "metadata": {},
   "source": [
    "Заменим вещественный тип данных в столбце `total_income` на целочисленный с помощью метода astype():"
   ]
  },
  {
   "cell_type": "code",
   "execution_count": 16,
   "id": "c40877ee",
   "metadata": {},
   "outputs": [],
   "source": [
    "data['total_income'] = data['total_income'].astype(int)"
   ]
  },
  {
   "cell_type": "markdown",
   "id": "a930f5d0",
   "metadata": {},
   "source": [
    "### Обработка дубликатов"
   ]
  },
  {
   "cell_type": "markdown",
   "id": "fad8d974",
   "metadata": {},
   "source": [
    "Обработаем неявные дубликаты в столбце `education`. В этом столбце есть одни и те же значения, но записанные по-разному. Приведем все к нижнему регистру. Затем проверим остальные столбцы на наличие дубликатов:"
   ]
  },
  {
   "cell_type": "code",
   "execution_count": 35,
   "id": "ca287352",
   "metadata": {},
   "outputs": [],
   "source": [
    "data['education'] = data['education'].str.lower()"
   ]
  },
  {
   "cell_type": "markdown",
   "id": "793fd148",
   "metadata": {},
   "source": [
    "Выведем на экран количество строк-дубликатов в данных, а затем удалим их:"
   ]
  },
  {
   "cell_type": "code",
   "execution_count": 36,
   "id": "59e5c401",
   "metadata": {},
   "outputs": [
    {
     "data": {
      "text/plain": [
       "0"
      ]
     },
     "execution_count": 36,
     "metadata": {},
     "output_type": "execute_result"
    }
   ],
   "source": [
    "data.duplicated().sum()"
   ]
  },
  {
   "cell_type": "code",
   "execution_count": 37,
   "id": "53ff10c9",
   "metadata": {},
   "outputs": [],
   "source": [
    "data = data.drop_duplicates()"
   ]
  },
  {
   "cell_type": "markdown",
   "id": "55ea1992",
   "metadata": {},
   "source": [
    "### Категоризация данных"
   ]
  },
  {
   "cell_type": "markdown",
   "id": "9982ac28",
   "metadata": {},
   "source": [
    "На основании диапазонов, указанных ниже, создадим в датафрейме `data` столбец `total_income_category` со следующими категориями:\n",
    "- 0–30000 — `'E'`;\n",
    "- 30001–50000 — `'D'`;\n",
    "- 50001–200000 — `'C'`;\n",
    "- 200001–1000000 — `'B'`;\n",
    "- 1000001 и выше — `'A'`."
   ]
  },
  {
   "cell_type": "markdown",
   "id": "b755bf11",
   "metadata": {},
   "source": [
    "Для категоризации данных предварительно напишем следующую функцию:"
   ]
  },
  {
   "cell_type": "code",
   "execution_count": 38,
   "id": "8bf7494d",
   "metadata": {},
   "outputs": [],
   "source": [
    "def categorize_income(income):\n",
    "    try:\n",
    "        if 0 <= income <= 30000:\n",
    "            return 'E'\n",
    "        elif 30001 <= income <= 50000:\n",
    "            return 'D'\n",
    "        elif 50001 <= income <= 200000:\n",
    "            return 'C'\n",
    "        elif 200001 <= income <= 1000000:\n",
    "            return 'B'\n",
    "        elif income >= 1000001:\n",
    "            return 'A'\n",
    "    except:\n",
    "        pass"
   ]
  },
  {
   "cell_type": "markdown",
   "id": "8217fed0",
   "metadata": {},
   "source": [
    "Применим данную функцию и создадим новый столбец `total_income_category`:"
   ]
  },
  {
   "cell_type": "code",
   "execution_count": 39,
   "id": "88a32c79",
   "metadata": {},
   "outputs": [],
   "source": [
    "data['total_income_category'] = data['total_income'].apply(categorize_income)"
   ]
  },
  {
   "cell_type": "markdown",
   "id": "810f3f0d",
   "metadata": {},
   "source": [
    "Выведем на экран перечень уникальных целей взятия кредита из столбца `purpose`:"
   ]
  },
  {
   "cell_type": "code",
   "execution_count": 40,
   "id": "721fb5c8",
   "metadata": {
    "scrolled": false
   },
   "outputs": [
    {
     "data": {
      "text/plain": [
       "array(['покупка жилья', 'приобретение автомобиля',\n",
       "       'дополнительное образование', 'сыграть свадьбу',\n",
       "       'операции с жильем', 'образование', 'на проведение свадьбы',\n",
       "       'покупка жилья для семьи', 'покупка недвижимости',\n",
       "       'покупка коммерческой недвижимости', 'покупка жилой недвижимости',\n",
       "       'строительство собственной недвижимости', 'недвижимость',\n",
       "       'строительство недвижимости', 'на покупку подержанного автомобиля',\n",
       "       'на покупку своего автомобиля',\n",
       "       'операции с коммерческой недвижимостью',\n",
       "       'строительство жилой недвижимости', 'жилье',\n",
       "       'операции со своей недвижимостью', 'автомобили',\n",
       "       'заняться образованием', 'сделка с подержанным автомобилем',\n",
       "       'получение образования', 'автомобиль', 'свадьба',\n",
       "       'получение дополнительного образования', 'покупка своего жилья',\n",
       "       'операции с недвижимостью', 'получение высшего образования',\n",
       "       'свой автомобиль', 'сделка с автомобилем',\n",
       "       'профильное образование', 'высшее образование',\n",
       "       'покупка жилья для сдачи', 'на покупку автомобиля', 'ремонт жилью',\n",
       "       'заняться высшим образованием'], dtype=object)"
      ]
     },
     "execution_count": 40,
     "metadata": {},
     "output_type": "execute_result"
    }
   ],
   "source": [
    "data['purpose'].unique()"
   ]
  },
  {
   "cell_type": "markdown",
   "id": "6b93804d",
   "metadata": {},
   "source": [
    "Создадим функцию, которая на основании данных из столбца `purpose` сформирует новый столбец `purpose_category`, в который войдут следующие категории:\n",
    "\n",
    "- `'операции с автомобилем'`,\n",
    "- `'операции с недвижимостью'`,\n",
    "- `'проведение свадьбы'`,\n",
    "- `'получение образования'`."
   ]
  },
  {
   "cell_type": "markdown",
   "id": "dd7d2021",
   "metadata": {},
   "source": [
    "Изучим данные в столбце `purpose` и определим, какие именно подстроки помогут нам правильно определить категорию:"
   ]
  },
  {
   "cell_type": "code",
   "execution_count": 41,
   "id": "f0c4233f",
   "metadata": {},
   "outputs": [],
   "source": [
    "def categorize_purpose(row):\n",
    "    try:\n",
    "        if 'автом' in row:\n",
    "            return 'операции с автомобилем'\n",
    "        elif 'жил' in row or 'недвиж' in row:\n",
    "            return 'операции с недвижимостью'\n",
    "        elif 'свад' in row:\n",
    "            return 'проведение свадьбы'\n",
    "        elif 'образов' in row:\n",
    "            return 'получение образования'\n",
    "    except:\n",
    "        return 'нет категории'"
   ]
  },
  {
   "cell_type": "markdown",
   "id": "ca0f8982",
   "metadata": {},
   "source": [
    "Применим данную функцию и создадим новый столбец `purpose_category`:"
   ]
  },
  {
   "cell_type": "code",
   "execution_count": 42,
   "id": "b6917aa4",
   "metadata": {},
   "outputs": [],
   "source": [
    "data['purpose_category'] = data['purpose'].apply(categorize_purpose)"
   ]
  },
  {
   "cell_type": "markdown",
   "id": "d3778b09",
   "metadata": {},
   "source": [
    "## Исследование различных групп заемщиков на предмет надежности"
   ]
  },
  {
   "cell_type": "markdown",
   "id": "fe4807ed",
   "metadata": {},
   "source": [
    "### Есть ли зависимость между количеством детей и возвратом кредита в срок?"
   ]
  },
  {
   "cell_type": "markdown",
   "id": "7e9687c6",
   "metadata": {},
   "source": [
    "Построим сводную таблицу, чтобы увидеть как зависит надежность заемщика от количества детей. Для этого посчитаем количество заемщиков в каждой группе и количество должников, а затем посчитаем конверсию вернувших кредит в срок:"
   ]
  },
  {
   "cell_type": "code",
   "execution_count": 46,
   "id": "f3e39a18",
   "metadata": {},
   "outputs": [
    {
     "name": "stdout",
     "output_type": "stream",
     "text": [
      "                  Количество заемщиков  Количество должников  Доля невозврата\n",
      "Дети отсутствуют                 14091                  1063         0.075438\n",
      "Один ребенок                      4808                   444         0.092346\n",
      "Двое детей                        2052                   194         0.094542\n",
      "Трое детей                         330                    27         0.081818\n",
      "Четверо детей                       41                     4         0.097561\n",
      "Пятеро детей                         9                     0         0.000000\n"
     ]
    }
   ],
   "source": [
    "grouped_by_children = data.pivot_table(index='children',values='debt',aggfunc=['count','sum','mean'])\n",
    "grouped_by_children.columns = ['Количество заемщиков', 'Количество должников', 'Доля невозврата']\n",
    "grouped_by_children.index = (['Дети отсутствуют', 'Один ребенок', 'Двое детей', 'Трое детей', 'Четверо детей'\n",
    "                              , 'Пятеро детей'])\n",
    "print(grouped_by_children)"
   ]
  },
  {
   "cell_type": "markdown",
   "id": "e65059a4",
   "metadata": {},
   "source": [
    "**В результате исследования данного вопроса мы выяснили следующее:**\n",
    "  1. Доля невозврата среди заемщиков, у которых нет детей, составляет 7,54%, что является наименьшим значением среди сравниваемых категорий заемщиков. Тем самым делает эту категорию самой надежной;\n",
    "  2. Количество должников увеличивается с ростом количества детей. Среди заемщиков, у которых один ребенок, процент должников составляет 9.23%, тогда как у заемщиков, которых двое детей, процент невозврата достигает значения 9.45%;\n",
    "  3. У заемщиков с тремя детьми доля невозврата составляет 8.18%, что несколько противоречит выявленной раннее зависимости доля невозврата по кредитам от количества детей. Однако данная аномалия могла возникнуть по причине небольшой по размеру выборки. Количество заемщиков составляет всего 330 человек, тогда как количестов замщиков без детей,с одним ребенком и с двумя составляет 14091, 4808 и 2052 человек соответственно. Тем не менее доля невозврата больше процентного соотношения должников среди заемщиков, у которых нет детей, на 0.64%;\n",
    "  4. У заемщиков с четырьмя детьми доля невозврата также показывает зависимость роста числа должников при увеличении количества детей и составляет - 9.76%. Однако к этим данным стоит относиться с осторожностью, так как величина выборки сравнительно невелика и составляет всего 41 человек;\n",
    "  5. В группе заемщиков, у которых пять детей, данных недостаточно для анализа. Величина выборки составляет всего 9 человек при доле невозврата в 0%. На основании этих данных можно сделать ошибочный вывод о том, что самыми надежными клиентами банка являются многодетные заемщики с количеством детей равным пяти. Таким образом исключаем эту группу из нашего анализа."
   ]
  },
  {
   "cell_type": "markdown",
   "id": "4f469cba",
   "metadata": {},
   "source": [
    "### Есть ли зависимость между семейным положением и возвратом кредита в срок?"
   ]
  },
  {
   "cell_type": "markdown",
   "id": "31dabf36",
   "metadata": {},
   "source": [
    "Построим сводную таблицу, чтобы увидеть как зависит надежность заемщика от семейного статуса. Для этого посчитаем количество заемщиков в каждой группе и количество должников, а затем посчитаем конверсию вернувших кредит в срок:"
   ]
  },
  {
   "cell_type": "code",
   "execution_count": 44,
   "id": "f25cebb6",
   "metadata": {},
   "outputs": [
    {
     "name": "stdout",
     "output_type": "stream",
     "text": [
      "                       Количество заемщиков  Количество должников  \\\n",
      "family_status                                                       \n",
      "Не женат / не замужем                  2796                   273   \n",
      "в разводе                              1189                    84   \n",
      "вдовец / вдова                          951                    63   \n",
      "гражданский брак                       4134                   385   \n",
      "женат / замужем                       12261                   927   \n",
      "\n",
      "                       Доля невозврата  \n",
      "family_status                           \n",
      "Не женат / не замужем         0.097639  \n",
      "в разводе                     0.070648  \n",
      "вдовец / вдова                0.066246  \n",
      "гражданский брак              0.093130  \n",
      "женат / замужем               0.075606  \n"
     ]
    }
   ],
   "source": [
    "grouped_by_family_status = data.pivot_table(index='family_status',values='debt',aggfunc=['count','sum','mean'])\n",
    "grouped_by_family_status.columns = ['Количество заемщиков', 'Количество должников', 'Доля невозврата']\n",
    "print(grouped_by_family_status)"
   ]
  },
  {
   "cell_type": "markdown",
   "id": "fb94a07e",
   "metadata": {},
   "source": [
    "**По результатам исследования данного вопроса было установлено следующее:**\n",
    "  1. Самыми надежными являются заемщики в семейному статусе \"вдовец / вдова\". Доля должников составляет 6.62% от общего числа заемщиков, имеющих данный статус;\n",
    "  2. Самой неплатежеспособной категорией являются клиенты со статусом \"Не женат / не замужем\". Их доля невозврата составляет 9.76%;\n",
    "  3. Заемщики, состоящие в гражданском браке, также показали себя как ненадежные заемщики. Доля невозврата среди них - 9.31%;\n",
    "  4. Доля невозврата среди клиентов с семейными стутусами \"в разводе\" и \"женат / замужем\" составляет соответственно 7.06% и 7.56%. Таким образом данные категории клиентов также можно отнести к группе надежных заемщиков."
   ]
  },
  {
   "cell_type": "markdown",
   "id": "aa7d36b9",
   "metadata": {},
   "source": [
    "### Есть ли зависимость между уровнем дохода и возвратом кредита в срок?"
   ]
  },
  {
   "cell_type": "markdown",
   "id": "eadbf36e",
   "metadata": {},
   "source": [
    "Построим сводную таблицу, чтобы проследить как зависит надежность заемщика от его уровня дохода. Для этого посчитаем количество заемщиков в каждой группе и количество должников, а затем посчитаем конверсию вернувших кредит в срок:"
   ]
  },
  {
   "cell_type": "code",
   "execution_count": 45,
   "id": "27477eb8",
   "metadata": {},
   "outputs": [
    {
     "name": "stdout",
     "output_type": "stream",
     "text": [
      "                                     Количество заемщиков  \\\n",
      "Доход более 1 млн.руб.                                 25   \n",
      "Доход от 200 тыс.руб. до 1 млн.руб.                  5014   \n",
      "Доход от 50 до 200 тыс.руб.                         15921   \n",
      "Доход от 30 до 50 тыс.руб.                            349   \n",
      "Доход до 30 тыс.руб                                    22   \n",
      "\n",
      "                                     Количество должников  Доля невозврата  \n",
      "Доход более 1 млн.руб.                                  2         0.080000  \n",
      "Доход от 200 тыс.руб. до 1 млн.руб.                   354         0.070602  \n",
      "Доход от 50 до 200 тыс.руб.                          1353         0.084982  \n",
      "Доход от 30 до 50 тыс.руб.                             21         0.060172  \n",
      "Доход до 30 тыс.руб                                     2         0.090909  \n"
     ]
    }
   ],
   "source": [
    "grouped_by_total_income_category = (data.pivot_table(index='total_income_category'\n",
    "                                                     ,values='debt',aggfunc=['count','sum','mean']))\n",
    "grouped_by_total_income_category.columns = ['Количество заемщиков', 'Количество должников', 'Доля невозврата']\n",
    "grouped_by_total_income_category.index = ['Доход более 1 млн.руб.', 'Доход от 200 тыс.руб. до 1 млн.руб.',\\\n",
    "                             'Доход от 50 до 200 тыс.руб.', 'Доход от 30 до 50 тыс.руб.', 'Доход до 30 тыс.руб']\n",
    "print(grouped_by_total_income_category)"
   ]
  },
  {
   "cell_type": "markdown",
   "id": "c0405b22",
   "metadata": {},
   "source": [
    "**В результате исследования данного вопроса мы выяснили:**\n",
    "  1. Самыми надежными заемщиками являются клиенты с уровнем дохода от 30 до 50 тыс.рублей. Доля должников среди них составляет 6.02%;\n",
    "  2. На втором месте - заемщики с уровнем дохода от 200 тыс.руб. до 1 млн.рублей. Доля невозврата среди этой категории клиентов составляет 7.06%;\n",
    "  3. Третьими по очереди надежных заемщиков идут клиенты с доходом от 1 млн.рублей. Из 25 человек только двое не вернули кредит в срок. Доля должников составляет 8.00% от общего числа клиентов данной категории;\n",
    "  4. Самыми ненадежными оказались клиенты с уровнем дохода от 50 до 200 тыс.руб и с доходом от 30 тыс.рублей. Их доля невозврата составила 8.50% и 9.09% соответсвенно."
   ]
  },
  {
   "cell_type": "markdown",
   "id": "564d0523",
   "metadata": {},
   "source": [
    "Расмотрим подробнее группу заемщиков с доходами менее 30 тыс.рублей:"
   ]
  },
  {
   "cell_type": "markdown",
   "id": "83cecedf",
   "metadata": {},
   "source": [
    "Отберем из массива данных должников с доходом менее 30 тыс.рублей. Создадим сводную в таблицу, в которой в качестве индекса будет выступать социальный статус заемщика,а в столбцах занесены соответственно значения общего количества заемщиков, количества должников и доли невозврата,разбитые по группам:"
   ]
  },
  {
   "cell_type": "code",
   "execution_count": 47,
   "id": "3c9fcbb8",
   "metadata": {},
   "outputs": [
    {
     "name": "stdout",
     "output_type": "stream",
     "text": [
      "  Социальный статус  Ежемесячный доход              Цель кредита\n",
      "0         пенсионер              29154  операции с недвижимостью\n",
      "1         пенсионер              20667  операции с недвижимостью\n"
     ]
    }
   ],
   "source": [
    "grouped_by_total_under_30 = data.loc[(data['total_income_category']=='E') & (data['debt']==1)]\n",
    "grouped_by_total_under_30 = grouped_by_total_under_30[['income_type','total_income','purpose_category']]\n",
    "grouped_by_total_under_30.columns = ['Социальный статус', 'Ежемесячный доход', 'Цель кредита']\n",
    "print(grouped_by_total_under_30.reset_index(drop=True))"
   ]
  },
  {
   "cell_type": "markdown",
   "id": "3e37fe14",
   "metadata": {},
   "source": [
    "Оба должника оказались пенсионерами c ежемесячные доходами 29154 руб. и 20667 руб. соответственно. Цель кредита - операции с недвижимостью. Выдавать кредит на дорогостоящие операции с недвижимостью было крайне рискованным решением, учитывая уровень дохода заемщиков."
   ]
  },
  {
   "cell_type": "markdown",
   "id": "77de9154",
   "metadata": {},
   "source": [
    "### Как разные цели кредита влияют на его возврат в срок?"
   ]
  },
  {
   "cell_type": "markdown",
   "id": "2ac36855",
   "metadata": {},
   "source": [
    "Построим сводную таблицу, чтобы проследить как зависит надежность заемщика от цели кредита. Для этого посчитаем количество заемщиков в каждой группе и количество должников, а затем посчитаем конверсию вернувших кредит в срок:"
   ]
  },
  {
   "cell_type": "code",
   "execution_count": 48,
   "id": "4164a6dc",
   "metadata": {},
   "outputs": [
    {
     "name": "stdout",
     "output_type": "stream",
     "text": [
      "                          Количество заемщиков  Количество должников  \\\n",
      "purpose_category                                                       \n",
      "операции с автомобилем                    4279                   400   \n",
      "операции с недвижимостью                 10751                   780   \n",
      "получение образования                     3988                   369   \n",
      "проведение свадьбы                        2313                   183   \n",
      "\n",
      "                          Доля невозврата  \n",
      "purpose_category                           \n",
      "операции с автомобилем           0.093480  \n",
      "операции с недвижимостью         0.072551  \n",
      "получение образования            0.092528  \n",
      "проведение свадьбы               0.079118  \n"
     ]
    }
   ],
   "source": [
    "grouped_by_purpose_category = data.pivot_table(index='purpose_category',values='debt',aggfunc=['count','sum','mean'])\n",
    "grouped_by_purpose_category.columns = ['Количество заемщиков', 'Количество должников', 'Доля невозврата']\n",
    "print(grouped_by_purpose_category)"
   ]
  },
  {
   "cell_type": "markdown",
   "id": "23f132a6",
   "metadata": {},
   "source": [
    "**В результате изучения данного вопроса мы выяснили:**\n",
    "  1. Клиенты берущие кредит на операции с недвижимостью чаще всего выплачивают кредит в срок. Лишь 7.26% заемщики не вернули кредит в срок;\n",
    "  2. Заемщики берущие кредит на проведение свадьбы также являются надежными клиентами банка. Процент невозврата по таким кредитам составляет 7.91%;\n",
    "  3. Самыми ненадежными клиентами оказались те, которые взяли кредиты на получение образования и операции с автомобилем. Процент невозврата по таким кредитам составил 9.25% и 9.35%, что делает выдачу кредитов на эти цели не такой привлекательной для банка.  "
   ]
  },
  {
   "cell_type": "markdown",
   "id": "3c468e7a",
   "metadata": {},
   "source": [
    "### Возможные причины появления большого количества пропусков в исходных данных"
   ]
  },
  {
   "cell_type": "markdown",
   "id": "07688f15",
   "metadata": {},
   "source": [
    "**В контексте нашего датасета могут быть следующие причины появления пропущенных значения:**\n",
    "  1. Среди категории \"Безработные\" вероятнее всего есть те, кто ни одного дня не работал. Поэтому графа стаж `days_employed` не была заполнена;\n",
    "  2. Среди категории \"Пенсионеры\" вероятно есть те, кто по ошибке не указал уровень дохода, считая пенсию социальной льготой,а не личным доходом;\n",
    "  3. Есть вероятность, что для категории \"Пенсионеры\" было сложно посчитать свой стаж в днях. Необходимо редактировать форму таким образом, чтобы вводя стаж в годах - в таблицу заносились данные в днях;\n",
    "  4. Отсутствие желания или возможностей у заемщиков документально подтвердить информацию о доходе и стаже."
   ]
  },
  {
   "cell_type": "markdown",
   "id": "6d200243",
   "metadata": {},
   "source": [
    "### Почему заполнение пропусков медианным значением — лучшее решение для количественных переменных?"
   ]
  },
  {
   "cell_type": "markdown",
   "id": "73d0b839",
   "metadata": {},
   "source": [
    "    Медиана корректно характеризует данные, когда некоторые значения сильно выделяются среди большинства. Медиана устойчива к выбросам данных. \n",
    "\n",
    "    Среднее арифметическое значение более устойчиво к неоднородной по значениям выборке, когда большая часть элементов расбросаны по числовому лучу."
   ]
  },
  {
   "cell_type": "markdown",
   "id": "a1f4a86f",
   "metadata": {},
   "source": [
    "## Общий вывод"
   ]
  },
  {
   "cell_type": "markdown",
   "id": "13f3a1d9",
   "metadata": {},
   "source": [
    "**В результате исследования мы можем сделать следующие выводы:**\n",
    "  1. Самыми надежными заемщиками являются клиенты не имеющие детей. С увеличением количества детей возрастает вероятность невозврата кредита в срок;\n",
    "  2. Рассматривая группы разбитые по семейному статусу, можно прийти к выводу о том, что самыми надежными плательщиками являются клиенты категории \"вдовец / вдова\";\n",
    "  3. Менее надежными, но тем не менее с относительно небольшим процентом невозврата в срок являются категории \"В разводе\" и \"Женат / Замужем\";\n",
    "  4. Чаще остальных просрочили выплату по кредиту заемщики состоящие в гражданском браке и клиенты категории \"Не женат / не замужем\";\n",
    "  5. Если рассматривать заемщиков, разбивая их на группы по ежемесячному доходу,то можно прийти к выводу, что самыми ненадежными клиентами являются те, чей доход не превышает 30 тыс.рублей, а также те, чей доход составляет от 50 до 200 тыс.руб;\n",
    "  6. Наименьший процент невыплаты в срок имеют клиенты с уровнем дохода от 30 до 50 тыс.руб;\n",
    "  7. На втором и третьем местах по надежности идут заемщики с доходом от 200 тыс.руб. до 1 млн.руб и с доходом более 1 млн.рублей;\n",
    "  8. Клиенты берущие кредит на операции с недвижимостью и проведение свадьбы чаще всего выплачивают кредит в срок;\n",
    "  9. Самыми ненадежными заемщиками оказались те, которые взяли кредиты на получение образования и операции с автомобилем. "
   ]
  }
 ],
 "metadata": {
  "kernelspec": {
   "display_name": "Python 3 (ipykernel)",
   "language": "python",
   "name": "python3"
  },
  "language_info": {
   "codemirror_mode": {
    "name": "ipython",
    "version": 3
   },
   "file_extension": ".py",
   "mimetype": "text/x-python",
   "name": "python",
   "nbconvert_exporter": "python",
   "pygments_lexer": "ipython3",
   "version": "3.9.13"
  },
  "toc": {
   "base_numbering": 1,
   "nav_menu": {},
   "number_sections": true,
   "sideBar": true,
   "skip_h1_title": true,
   "title_cell": "Table of Contents",
   "title_sidebar": "Contents",
   "toc_cell": true,
   "toc_position": {},
   "toc_section_display": true,
   "toc_window_display": false
  }
 },
 "nbformat": 4,
 "nbformat_minor": 5
}
